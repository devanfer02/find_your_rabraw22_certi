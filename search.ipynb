{
 "cells": [
  {
   "cell_type": "markdown",
   "metadata": {},
   "source": [
    "# Menghunting Sertifikat Rabraw"
   ]
  },
  {
   "cell_type": "code",
   "execution_count": 11,
   "metadata": {},
   "outputs": [],
   "source": [
    "import requests\n",
    "import webbrowser"
   ]
  },
  {
   "cell_type": "markdown",
   "metadata": {},
   "source": [
    "## Mendapatkan Sertifikatmu\n",
    "#### Cara Menggunakannya\n",
    "1. Punya python terinstall dan bisa menjalankan python di jupyter\n",
    "2. Lakukan command ```pip install -r requirements.txt```\n",
    "3. Jalankan kode import diatas terlebih dahulu\n",
    "4. Setelah itu jalankan kode dibawah"
   ]
  },
  {
   "cell_type": "code",
   "execution_count": 19,
   "metadata": {},
   "outputs": [
    {
     "name": "stdout",
     "output_type": "stream",
     "text": [
      "Your certificate has been found!\n",
      "Program should redirect to browser soon\n"
     ]
    }
   ],
   "source": [
    "def main() :\n",
    "    fullname_allupper = str(input('Masukkan nama lengkapmu : ')).upper()\n",
    "\n",
    "    # DO NOT CHANGE THE URL BELOW\n",
    "    API_URL = \"https://api.github.com/repos/devanfer02/tools/contents/storage/rabraw/filkom\" \n",
    "\n",
    "    response = requests.get(API_URL)\n",
    "    response_json = response.json()\n",
    "\n",
    "    user = ['', False]\n",
    "\n",
    "    for content in response_json :\n",
    "        pdf_file_upper = content['name'].upper()\n",
    "        if fullname_allupper in pdf_file_upper :\n",
    "            user[0] = content['download_url']\n",
    "            user[1] = True \n",
    "            break \n",
    "\n",
    "    if not user[1] :\n",
    "        print('Cannot find you certificate')\n",
    "        print('Make sure to input your name correctly')\n",
    "        return\n",
    "\n",
    "    print('Your certificate has been found!')\n",
    "    print('Program should redirect to browser soon')\n",
    "    webbrowser.open(user[0])\n",
    "\n",
    "main()"
   ]
  }
 ],
 "metadata": {
  "kernelspec": {
   "display_name": "envten",
   "language": "python",
   "name": "python3"
  },
  "language_info": {
   "codemirror_mode": {
    "name": "ipython",
    "version": 3
   },
   "file_extension": ".py",
   "mimetype": "text/x-python",
   "name": "python",
   "nbconvert_exporter": "python",
   "pygments_lexer": "ipython3",
   "version": "3.10.12"
  },
  "orig_nbformat": 4
 },
 "nbformat": 4,
 "nbformat_minor": 2
}
