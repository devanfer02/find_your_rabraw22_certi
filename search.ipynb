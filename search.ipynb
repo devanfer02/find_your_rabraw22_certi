{
 "cells": [
  {
   "cell_type": "markdown",
   "metadata": {},
   "source": [
    "# Menghunting Sertifikat Rabraw"
   ]
  },
  {
   "cell_type": "code",
   "execution_count": 28,
   "metadata": {},
   "outputs": [],
   "source": [
    "import requests\n",
    "import webbrowser\n",
    "import json"
   ]
  },
  {
   "cell_type": "markdown",
   "metadata": {},
   "source": [
    "## Mendapatkan Sertifikatmu\n",
    "#### Cara Menggunakannya\n",
    "1. Punya python terinstall dan bisa menjalankan python di jupyter\n",
    "2. Lakukan command ```pip install -r requirements.txt```\n",
    "3. Jalankan kode import diatas terlebih dahulu\n",
    "4. Setelah itu jalankan kode dibawah"
   ]
  },
  {
   "cell_type": "code",
   "execution_count": 34,
   "metadata": {},
   "outputs": [
    {
     "name": "stdout",
     "output_type": "stream",
     "text": [
      "Here's your certificate!\n"
     ]
    }
   ],
   "source": [
    "def main() :\n",
    "    fullname_allupper = str(input('Masukkan nama lengkapmu : ')).upper()\n",
    "\n",
    "    \n",
    "    with open('data.json', 'r') as json_file :\n",
    "        data = json.load(json_file)\n",
    "\n",
    "    \n",
    "    for item in data :\n",
    "        if fullname_allupper in item['name'].upper() :\n",
    "            url = item['download_url']\n",
    "            webbrowser.open(url)\n",
    "            print('Here\\'s your certificate!')\n",
    "            return\n",
    "    \n",
    "    print('Cannot find your certificate')\n",
    "\n",
    "    \n",
    "main()"
   ]
  }
 ],
 "metadata": {
  "kernelspec": {
   "display_name": "envten",
   "language": "python",
   "name": "python3"
  },
  "language_info": {
   "codemirror_mode": {
    "name": "ipython",
    "version": 3
   },
   "file_extension": ".py",
   "mimetype": "text/x-python",
   "name": "python",
   "nbconvert_exporter": "python",
   "pygments_lexer": "ipython3",
   "version": "3.10.12"
  },
  "orig_nbformat": 4
 },
 "nbformat": 4,
 "nbformat_minor": 2
}
